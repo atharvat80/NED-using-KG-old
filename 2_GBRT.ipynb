{
 "cells": [
  {
   "cell_type": "code",
   "execution_count": 1,
   "metadata": {},
   "outputs": [],
   "source": [
    "import warnings\n",
    "warnings.filterwarnings('ignore')"
   ]
  },
  {
   "cell_type": "markdown",
   "metadata": {},
   "source": [
    "# Setup"
   ]
  },
  {
   "cell_type": "code",
   "execution_count": 2,
   "metadata": {},
   "outputs": [],
   "source": [
    "import jellyfish\n",
    "import pandas as pd\n",
    "import flair.datasets as datasets\n",
    "from data.utils import getCandidates, getDocument\n",
    "from src.models.gbrt import GBRT\n",
    "from wikipedia2vec import Wikipedia2Vec\n",
    "from tqdm import tqdm"
   ]
  },
  {
   "cell_type": "code",
   "execution_count": 3,
   "metadata": {},
   "outputs": [
    {
     "name": "stdout",
     "output_type": "stream",
     "text": [
      "2021-11-24 23:07:00,632 Reading data from C:\\Users\\athar\\.flair\\datasets\\nel_english_aida\n",
      "2021-11-24 23:07:00,634 Train: C:\\Users\\athar\\.flair\\datasets\\nel_english_aida\\train\n",
      "2021-11-24 23:07:00,635 Dev: C:\\Users\\athar\\.flair\\datasets\\nel_english_aida\\testa\n",
      "2021-11-24 23:07:00,636 Test: C:\\Users\\athar\\.flair\\datasets\\nel_english_aida\\testb\n"
     ]
    }
   ],
   "source": [
    "EMB_PATH = \"./embeddings/\"\n",
    "aida = datasets.NEL_ENGLISH_AIDA()\n",
    "wiki2vec = Wikipedia2Vec.load(EMB_PATH + 'wiki2vec_w10_100d.pkl')\n",
    "model = GBRT(wiki2vec)"
   ]
  },
  {
   "cell_type": "code",
   "execution_count": 4,
   "metadata": {},
   "outputs": [],
   "source": [
    "mentions_tags = []\n",
    "doc = 1162\n",
    "for i in aida.test:\n",
    "\tcontext = i.to_plain_string()\n",
    "\tif context != '-DOCSTART-':\n",
    "\t\tmentions_tags += [[j.text, j.tag, context, doc] for j in i.get_spans()]\n",
    "\telse:\n",
    "\t\tdoc += 1"
   ]
  },
  {
   "cell_type": "code",
   "execution_count": 5,
   "metadata": {},
   "outputs": [],
   "source": [
    "def get_candidates(mention, doc):\n",
    "\tdf = getCandidates(doc, mention=mention)\n",
    "\treturn [i.split('/')[-1] for i in df['url'].values]"
   ]
  },
  {
   "cell_type": "markdown",
   "metadata": {},
   "source": [
    "# Initial Tests"
   ]
  },
  {
   "cell_type": "markdown",
   "metadata": {},
   "source": [
    "Use sentence of the mention as the context"
   ]
  },
  {
   "cell_type": "code",
   "execution_count": 7,
   "metadata": {},
   "outputs": [
    {
     "name": "stderr",
     "output_type": "stream",
     "text": [
      "100%|██████████| 4497/4497 [00:49<00:00, 90.44it/s] "
     ]
    },
    {
     "name": "stdout",
     "output_type": "stream",
     "text": [
      "Accuracy: 67.95%\n",
      "Total test samples: 4250\n"
     ]
    },
    {
     "name": "stderr",
     "output_type": "stream",
     "text": [
      "\n"
     ]
    }
   ],
   "source": [
    "preds = []\n",
    "for mention, tag, context, docNum in tqdm(mentions_tags):\n",
    "\tdocText = getDocument(docNum)\n",
    "\tcandidates = get_candidates(mention, docNum)\n",
    "\tif tag in candidates:\n",
    "\t\tpred, conf = model.link(mention, context, candidates)[0]\n",
    "\t\tpreds.append([mention, tag, pred.replace(' ','_')])\n",
    "\n",
    "accuracy = round((sum([1 for _, t, p in preds if t == p]) / len(preds)) * 100, 2)\n",
    "print(f'Accuracy: {accuracy}%\\nTotal test samples: {len(preds)}')"
   ]
  },
  {
   "cell_type": "markdown",
   "metadata": {},
   "source": [
    "Use the whole document as the context"
   ]
  },
  {
   "cell_type": "code",
   "execution_count": 8,
   "metadata": {},
   "outputs": [
    {
     "name": "stderr",
     "output_type": "stream",
     "text": [
      "100%|██████████| 4497/4497 [03:08<00:00, 23.88it/s]"
     ]
    },
    {
     "name": "stdout",
     "output_type": "stream",
     "text": [
      "Accuracy: 64.38%\n",
      "Total test samples: 4250\n"
     ]
    },
    {
     "name": "stderr",
     "output_type": "stream",
     "text": [
      "\n"
     ]
    }
   ],
   "source": [
    "preds = []\n",
    "for mention, tag, context, docNum in tqdm(mentions_tags):\n",
    "\tdocText = getDocument(docNum)\n",
    "\tcandidates = get_candidates(mention, docNum)\n",
    "\tif tag in candidates:\n",
    "\t\tpred, conf = model.link(mention, docText, candidates)[0]\n",
    "\t\tpreds.append([mention, tag, pred.replace(' ','_')])\n",
    "\n",
    "accuracy = round((sum([1 for _, t, p in preds if t == p]) / len(preds)) * 100, 2)\n",
    "print(f'Accuracy: {accuracy}%\\nTotal test samples: {len(preds)}')"
   ]
  },
  {
   "cell_type": "markdown",
   "metadata": {},
   "source": [
    "# Gathering Training Data"
   ]
  },
  {
   "cell_type": "code",
   "execution_count": 22,
   "metadata": {},
   "outputs": [],
   "source": [
    "mentions_tags = []\n",
    "doc = 0\n",
    "for i in aida.train:\n",
    "\tcontext = i.to_plain_string()\n",
    "\tif context != '-DOCSTART-':\n",
    "\t\tmentions_tags += [[j.text, j.tag, doc] for j in i.get_spans()]\n",
    "\telse:\n",
    "\t\tdoc += 1"
   ]
  },
  {
   "cell_type": "code",
   "execution_count": 23,
   "metadata": {},
   "outputs": [
    {
     "name": "stderr",
     "output_type": "stream",
     "text": [
      "100%|██████████| 18601/18601 [15:44<00:00, 19.68it/s]\n"
     ]
    }
   ],
   "source": [
    "def edit_dist(x, y): \n",
    "\treturn jellyfish.levenshtein_distance(x, y)\n",
    "\n",
    "preds = []\n",
    "for mention, tag, docNum in tqdm(mentions_tags):\n",
    "\tdocText = getDocument(docNum)\n",
    "\tcandidates = get_candidates(mention, docNum)\n",
    "\tif tag in candidates:\n",
    "\t\tscores = model.link(mention, docText, candidates)\n",
    "\t\tmention = mention.lower()\n",
    "\t\tfor i, j in scores:\n",
    "\t\t\ti = i.replace('_', ' ')\n",
    "\t\t\tentry = [\n",
    "\t\t\t\ti,                           # Candidate entity\n",
    "\t\t\t\tmention,                     # Mention\n",
    "\t\t\t\t0,                           # Prior probability\n",
    "\t\t\t\t0,                           # Entity prior\n",
    "\t\t\t\t0,                           # Max prior prob of E of all mentions in the document\n",
    "\t\t\t\tlen(scores),                 # Num candidates\n",
    "\t\t\t\tedit_dist(mention, i),       # Edit dist between mention and E title\n",
    "\t\t\t\tint(mention in i),           # If mention == E title or contained in it\n",
    "\t\t\t\tint(i.startswith(mention) or i.endswith(mention)),\n",
    "\t\t\t\tj,                           # Context similarity score\n",
    "\t\t\t\t0,                           # Coherence score\n",
    "\t\t\t\t0,                           # Rank\n",
    "\t\t\t\tint(i == tag)                # y (is ground truth?)\n",
    "\t\t\t]\n",
    "\t\t\tpreds.append(entry)"
   ]
  },
  {
   "cell_type": "code",
   "execution_count": 24,
   "metadata": {},
   "outputs": [],
   "source": [
    "train_data = pd.DataFrame(preds, columns=['candidate', 'mention', 'priorProb', 'entPrior', 'maxProb',\n",
    "                          'numCands', 'editDist', 'contextInE', 'startOrEnds', 'contextSim', 'coherenceScore', \n",
    "                          'rank', 'y'])\n"
   ]
  },
  {
   "cell_type": "code",
   "execution_count": 25,
   "metadata": {},
   "outputs": [
    {
     "data": {
      "text/html": [
       "<div>\n",
       "<style scoped>\n",
       "    .dataframe tbody tr th:only-of-type {\n",
       "        vertical-align: middle;\n",
       "    }\n",
       "\n",
       "    .dataframe tbody tr th {\n",
       "        vertical-align: top;\n",
       "    }\n",
       "\n",
       "    .dataframe thead th {\n",
       "        text-align: right;\n",
       "    }\n",
       "</style>\n",
       "<table border=\"1\" class=\"dataframe\">\n",
       "  <thead>\n",
       "    <tr style=\"text-align: right;\">\n",
       "      <th></th>\n",
       "      <th>candidate</th>\n",
       "      <th>mention</th>\n",
       "      <th>priorProb</th>\n",
       "      <th>entPrior</th>\n",
       "      <th>maxProb</th>\n",
       "      <th>numCands</th>\n",
       "      <th>editDist</th>\n",
       "      <th>contextInE</th>\n",
       "      <th>startOrEnds</th>\n",
       "      <th>contextSim</th>\n",
       "      <th>coherenceScore</th>\n",
       "      <th>rank</th>\n",
       "      <th>y</th>\n",
       "    </tr>\n",
       "  </thead>\n",
       "  <tbody>\n",
       "    <tr>\n",
       "      <th>0</th>\n",
       "      <td>German model</td>\n",
       "      <td>german</td>\n",
       "      <td>0</td>\n",
       "      <td>0</td>\n",
       "      <td>0</td>\n",
       "      <td>32</td>\n",
       "      <td>7</td>\n",
       "      <td>0</td>\n",
       "      <td>0</td>\n",
       "      <td>0.491980</td>\n",
       "      <td>0</td>\n",
       "      <td>0</td>\n",
       "      <td>0</td>\n",
       "    </tr>\n",
       "    <tr>\n",
       "      <th>1</th>\n",
       "      <td>German Party (1961)</td>\n",
       "      <td>german</td>\n",
       "      <td>0</td>\n",
       "      <td>0</td>\n",
       "      <td>0</td>\n",
       "      <td>32</td>\n",
       "      <td>14</td>\n",
       "      <td>0</td>\n",
       "      <td>0</td>\n",
       "      <td>0.483690</td>\n",
       "      <td>0</td>\n",
       "      <td>0</td>\n",
       "      <td>0</td>\n",
       "    </tr>\n",
       "    <tr>\n",
       "      <th>2</th>\n",
       "      <td>German, Iran</td>\n",
       "      <td>german</td>\n",
       "      <td>0</td>\n",
       "      <td>0</td>\n",
       "      <td>0</td>\n",
       "      <td>32</td>\n",
       "      <td>7</td>\n",
       "      <td>0</td>\n",
       "      <td>0</td>\n",
       "      <td>0.463202</td>\n",
       "      <td>0</td>\n",
       "      <td>0</td>\n",
       "      <td>0</td>\n",
       "    </tr>\n",
       "    <tr>\n",
       "      <th>3</th>\n",
       "      <td>German Township, Kossuth County, Iowa</td>\n",
       "      <td>german</td>\n",
       "      <td>0</td>\n",
       "      <td>0</td>\n",
       "      <td>0</td>\n",
       "      <td>32</td>\n",
       "      <td>32</td>\n",
       "      <td>0</td>\n",
       "      <td>0</td>\n",
       "      <td>0.430681</td>\n",
       "      <td>0</td>\n",
       "      <td>0</td>\n",
       "      <td>0</td>\n",
       "    </tr>\n",
       "    <tr>\n",
       "      <th>4</th>\n",
       "      <td>German–Polish Non-Aggression Pact</td>\n",
       "      <td>german</td>\n",
       "      <td>0</td>\n",
       "      <td>0</td>\n",
       "      <td>0</td>\n",
       "      <td>32</td>\n",
       "      <td>28</td>\n",
       "      <td>0</td>\n",
       "      <td>0</td>\n",
       "      <td>0.422896</td>\n",
       "      <td>0</td>\n",
       "      <td>0</td>\n",
       "      <td>0</td>\n",
       "    </tr>\n",
       "    <tr>\n",
       "      <th>...</th>\n",
       "      <td>...</td>\n",
       "      <td>...</td>\n",
       "      <td>...</td>\n",
       "      <td>...</td>\n",
       "      <td>...</td>\n",
       "      <td>...</td>\n",
       "      <td>...</td>\n",
       "      <td>...</td>\n",
       "      <td>...</td>\n",
       "      <td>...</td>\n",
       "      <td>...</td>\n",
       "      <td>...</td>\n",
       "      <td>...</td>\n",
       "    </tr>\n",
       "    <tr>\n",
       "      <th>174076</th>\n",
       "      <td>Lincoln Park</td>\n",
       "      <td>lincoln</td>\n",
       "      <td>0</td>\n",
       "      <td>0</td>\n",
       "      <td>0</td>\n",
       "      <td>26</td>\n",
       "      <td>6</td>\n",
       "      <td>0</td>\n",
       "      <td>0</td>\n",
       "      <td>0.291625</td>\n",
       "      <td>0</td>\n",
       "      <td>0</td>\n",
       "      <td>0</td>\n",
       "    </tr>\n",
       "    <tr>\n",
       "      <th>174077</th>\n",
       "      <td>Lincoln (proposed Southern state)</td>\n",
       "      <td>lincoln</td>\n",
       "      <td>0</td>\n",
       "      <td>0</td>\n",
       "      <td>0</td>\n",
       "      <td>26</td>\n",
       "      <td>27</td>\n",
       "      <td>0</td>\n",
       "      <td>0</td>\n",
       "      <td>0.278966</td>\n",
       "      <td>0</td>\n",
       "      <td>0</td>\n",
       "      <td>0</td>\n",
       "    </tr>\n",
       "    <tr>\n",
       "      <th>174078</th>\n",
       "      <td>Lincoln University (California)</td>\n",
       "      <td>lincoln</td>\n",
       "      <td>0</td>\n",
       "      <td>0</td>\n",
       "      <td>0</td>\n",
       "      <td>26</td>\n",
       "      <td>25</td>\n",
       "      <td>0</td>\n",
       "      <td>0</td>\n",
       "      <td>0.278890</td>\n",
       "      <td>0</td>\n",
       "      <td>0</td>\n",
       "      <td>0</td>\n",
       "    </tr>\n",
       "    <tr>\n",
       "      <th>174079</th>\n",
       "      <td>Lincoln (band)</td>\n",
       "      <td>lincoln</td>\n",
       "      <td>0</td>\n",
       "      <td>0</td>\n",
       "      <td>0</td>\n",
       "      <td>26</td>\n",
       "      <td>8</td>\n",
       "      <td>0</td>\n",
       "      <td>0</td>\n",
       "      <td>0.275661</td>\n",
       "      <td>0</td>\n",
       "      <td>0</td>\n",
       "      <td>0</td>\n",
       "    </tr>\n",
       "    <tr>\n",
       "      <th>174080</th>\n",
       "      <td>Lincoln, Illinois</td>\n",
       "      <td>lincoln</td>\n",
       "      <td>0</td>\n",
       "      <td>0</td>\n",
       "      <td>0</td>\n",
       "      <td>26</td>\n",
       "      <td>11</td>\n",
       "      <td>0</td>\n",
       "      <td>0</td>\n",
       "      <td>0.250876</td>\n",
       "      <td>0</td>\n",
       "      <td>0</td>\n",
       "      <td>0</td>\n",
       "    </tr>\n",
       "  </tbody>\n",
       "</table>\n",
       "<p>174081 rows × 13 columns</p>\n",
       "</div>"
      ],
      "text/plain": [
       "                                    candidate  mention  priorProb  entPrior  \\\n",
       "0                                German model   german          0         0   \n",
       "1                         German Party (1961)   german          0         0   \n",
       "2                                German, Iran   german          0         0   \n",
       "3       German Township, Kossuth County, Iowa   german          0         0   \n",
       "4           German–Polish Non-Aggression Pact   german          0         0   \n",
       "...                                       ...      ...        ...       ...   \n",
       "174076                           Lincoln Park  lincoln          0         0   \n",
       "174077      Lincoln (proposed Southern state)  lincoln          0         0   \n",
       "174078        Lincoln University (California)  lincoln          0         0   \n",
       "174079                         Lincoln (band)  lincoln          0         0   \n",
       "174080                      Lincoln, Illinois  lincoln          0         0   \n",
       "\n",
       "        maxProb  numCands  editDist  contextInE  startOrEnds  contextSim  \\\n",
       "0             0        32         7           0            0    0.491980   \n",
       "1             0        32        14           0            0    0.483690   \n",
       "2             0        32         7           0            0    0.463202   \n",
       "3             0        32        32           0            0    0.430681   \n",
       "4             0        32        28           0            0    0.422896   \n",
       "...         ...       ...       ...         ...          ...         ...   \n",
       "174076        0        26         6           0            0    0.291625   \n",
       "174077        0        26        27           0            0    0.278966   \n",
       "174078        0        26        25           0            0    0.278890   \n",
       "174079        0        26         8           0            0    0.275661   \n",
       "174080        0        26        11           0            0    0.250876   \n",
       "\n",
       "        coherenceScore  rank  y  \n",
       "0                    0     0  0  \n",
       "1                    0     0  0  \n",
       "2                    0     0  0  \n",
       "3                    0     0  0  \n",
       "4                    0     0  0  \n",
       "...                ...   ... ..  \n",
       "174076               0     0  0  \n",
       "174077               0     0  0  \n",
       "174078               0     0  0  \n",
       "174079               0     0  0  \n",
       "174080               0     0  0  \n",
       "\n",
       "[174081 rows x 13 columns]"
      ]
     },
     "execution_count": 25,
     "metadata": {},
     "output_type": "execute_result"
    }
   ],
   "source": [
    "train_data"
   ]
  }
 ],
 "metadata": {
  "interpreter": {
   "hash": "d3c83394ae731fac5cbf34b5abe7ebcd59fb96b846f104eed2689aeb9dd8ae81"
  },
  "kernelspec": {
   "display_name": "Python 3.8.12 64-bit ('NED-using-KG': conda)",
   "language": "python",
   "name": "python3"
  },
  "language_info": {
   "codemirror_mode": {
    "name": "ipython",
    "version": 3
   },
   "file_extension": ".py",
   "mimetype": "text/x-python",
   "name": "python",
   "nbconvert_exporter": "python",
   "pygments_lexer": "ipython3",
   "version": "3.8.12"
  },
  "orig_nbformat": 4
 },
 "nbformat": 4,
 "nbformat_minor": 2
}
