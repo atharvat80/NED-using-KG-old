{
 "cells": [
  {
   "cell_type": "code",
   "execution_count": 1,
   "metadata": {},
   "outputs": [],
   "source": [
    "from pprint import pprint\n",
    "from src.utils import GoogleSearch, GoogleKBSearch, WikiSearch, WikiDataSearch"
   ]
  },
  {
   "cell_type": "code",
   "execution_count": 2,
   "metadata": {},
   "outputs": [
    {
     "name": "stdout",
     "output_type": "stream",
     "text": [
      "[{'description': 'London is the capital and largest city of England and the '\n",
      "                 'United Kingdom. Standing on the River Thames in south-east '\n",
      "                 'England at the head of a 50-mile (80 km) estuary down to the '\n",
      "                 'North Sea, it has been a major settlement for two millennia. '\n",
      "                 'The City of London, its ancient core and financial centre, '\n",
      "                 'was founded by the Romans as Londinium and retains '\n",
      "                 'boundaries close to its medieval ones.',\n",
      "  'label': 'London'},\n",
      " {'description': 'The City of London is a city, ceremonial county and local '\n",
      "                 'government district that contains the historic centre and '\n",
      "                 'the primary central business district (CBD) of London. It '\n",
      "                 'constituted most of London from its settlement by the Romans '\n",
      "                 'in the 1st century AD to the Middle Ages, but the modern '\n",
      "                 'city named London has since grown far beyond the City of '\n",
      "                 'London boundary. The City is now only a tiny part of the '\n",
      "                 'metropolis of London, though it remains a notable part of '\n",
      "                 'central London.',\n",
      "  'label': 'City_of_London'},\n",
      " {'description': 'London (pronounced ) is a city in southwestern Ontario, '\n",
      "                 'Canada, along the Quebec City–Windsor Corridor. The city had '\n",
      "                 'a population of 383,822 according to the 2016 Canadian '\n",
      "                 'census. London is at the confluence of the Thames River, '\n",
      "                 'approximately 200 km (120 mi) from both Toronto and Detroit; '\n",
      "                 'and about 230 km (140 mi) from Buffalo, New York.',\n",
      "  'label': 'London,_Ontario'}]\n",
      "Wall time: 10.6 s\n"
     ]
    }
   ],
   "source": [
    "%%time\n",
    "pprint(GoogleSearch('London', num_results=3, desc=True))"
   ]
  },
  {
   "cell_type": "code",
   "execution_count": 3,
   "metadata": {},
   "outputs": [
    {
     "name": "stdout",
     "output_type": "stream",
     "text": [
      "[['London',\n",
      "  'Capital of England',\n",
      "  'Thing,City,Place,AdministrativeArea',\n",
      "  'London is the capital and largest city of England and the United Kingdom. '\n",
      "  'Standing on the River Thames in south-east England at the head of a 50-mile '\n",
      "  'estuary down to the North Sea, it has been a major settlement for two '\n",
      "  'millennia. ',\n",
      "  'https://en.wikipedia.org/wiki/London'],\n",
      " ['Chelsea F.C.',\n",
      "  'Football club',\n",
      "  'Organization,SportsTeam,Corporation,Thing',\n",
      "  'Chelsea Football Club is an English professional football club based in '\n",
      "  'Fulham, West London. Founded in 1905, the club competes in the Premier '\n",
      "  'League, the top division of English football. ',\n",
      "  'https://en.wikipedia.org/wiki/Chelsea_F.C.'],\n",
      " ['The London 2012 Summer Olympics',\n",
      "  'Multi-sport event',\n",
      "  'Event,Thing',\n",
      "  'The 2012 Summer Olympics were an international multi-sport event held from '\n",
      "  '27 July to 12 August 2012 in London, England, United Kingdom. ',\n",
      "  'https://en.wikipedia.org/wiki/2012_Summer_Olympics']]\n",
      "Wall time: 1.32 s\n"
     ]
    }
   ],
   "source": [
    "%%time\n",
    "pprint(GoogleKBSearch('London', num_res=3))"
   ]
  },
  {
   "cell_type": "code",
   "execution_count": 4,
   "metadata": {},
   "outputs": [
    {
     "name": "stdout",
     "output_type": "stream",
     "text": [
      "[{'description': 'London is the capital and largest city of England and the '\n",
      "                 'United Kingdom. Standing on the River Thames in south-east '\n",
      "                 'England at the head of a 50-mile (80\\xa0km)',\n",
      "  'label': 'London'},\n",
      " {'description': 'the exception of the City of London. It forms the London '\n",
      "                 'region. Greater London is the administrative boundary for '\n",
      "                 'London, and is organised into 33 local',\n",
      "  'label': 'Greater_London'},\n",
      " {'description': '\"Werewolves of London\" is a rock song performed by American '\n",
      "                 'singer-songwriter Warren Zevon. It was composed by Zevon, '\n",
      "                 'LeRoy Marinell and Waddy Wachtel',\n",
      "  'label': 'Werewolves_of_London'}]\n",
      "Wall time: 3.57 s\n"
     ]
    }
   ],
   "source": [
    "%%time\n",
    "pprint(WikiSearch('London', num_results=3))"
   ]
  },
  {
   "cell_type": "code",
   "execution_count": 5,
   "metadata": {},
   "outputs": [
    {
     "name": "stdout",
     "output_type": "stream",
     "text": [
      "[{'concepturi': 'http://www.wikidata.org/entity/Q84',\n",
      "  'description': 'capital and largest city of the United Kingdom',\n",
      "  'id': 'Q84',\n",
      "  'label': 'London',\n",
      "  'match': {'language': 'en', 'text': 'London', 'type': 'label'},\n",
      "  'pageid': 214,\n",
      "  'repository': 'wikidata',\n",
      "  'title': 'Q84',\n",
      "  'url': '//www.wikidata.org/wiki/Q84'},\n",
      " {'concepturi': 'http://www.wikidata.org/entity/Q92561',\n",
      "  'description': 'city in Southwestern Ontario, Canada',\n",
      "  'id': 'Q92561',\n",
      "  'label': 'London',\n",
      "  'match': {'language': 'en', 'text': 'London', 'type': 'label'},\n",
      "  'pageid': 94779,\n",
      "  'repository': 'wikidata',\n",
      "  'title': 'Q92561',\n",
      "  'url': '//www.wikidata.org/wiki/Q92561'},\n",
      " {'concepturi': 'http://www.wikidata.org/entity/Q935090',\n",
      "  'description': 'record label headquartered in the United Kingdom',\n",
      "  'id': 'Q935090',\n",
      "  'label': 'London Recordings',\n",
      "  'match': {'language': 'en', 'text': 'London Recordings', 'type': 'label'},\n",
      "  'pageid': 885352,\n",
      "  'repository': 'wikidata',\n",
      "  'title': 'Q935090',\n",
      "  'url': '//www.wikidata.org/wiki/Q935090'}]\n",
      "Wall time: 523 ms\n"
     ]
    }
   ],
   "source": [
    "%%time\n",
    "pprint(WikiDataSearch('London', num_results=3))"
   ]
  },
  {
   "cell_type": "markdown",
   "metadata": {},
   "source": [
    "**Conclusions**\n",
    "\n",
    "Wikidata Search is the fastest and provides the most relevant results"
   ]
  }
 ],
 "metadata": {
  "interpreter": {
   "hash": "d3c83394ae731fac5cbf34b5abe7ebcd59fb96b846f104eed2689aeb9dd8ae81"
  },
  "kernelspec": {
   "display_name": "Python 3.8.12 64-bit ('NED-using-KG': conda)",
   "language": "python",
   "name": "python3"
  },
  "language_info": {
   "codemirror_mode": {
    "name": "ipython",
    "version": 3
   },
   "file_extension": ".py",
   "mimetype": "text/x-python",
   "name": "python",
   "nbconvert_exporter": "python",
   "pygments_lexer": "ipython3",
   "version": "3.8.12"
  },
  "orig_nbformat": 4
 },
 "nbformat": 4,
 "nbformat_minor": 2
}
