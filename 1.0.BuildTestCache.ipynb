{
 "cells": [
  {
   "cell_type": "code",
   "execution_count": 1,
   "metadata": {},
   "outputs": [],
   "source": [
    "import pandas as pd\n",
    "import flair.datasets as datasets\n",
    "\n",
    "from tqdm import tqdm\n",
    "from test import get_candidates\n",
    "from src.utils import getEntityInfo"
   ]
  },
  {
   "cell_type": "code",
   "execution_count": 2,
   "metadata": {},
   "outputs": [
    {
     "name": "stdout",
     "output_type": "stream",
     "text": [
      "2021-11-16 12:04:59,048 Reading data from C:\\Users\\athar\\.flair\\datasets\\nel_english_aida\n",
      "2021-11-16 12:04:59,051 Train: C:\\Users\\athar\\.flair\\datasets\\nel_english_aida\\train\n",
      "2021-11-16 12:04:59,054 Dev: C:\\Users\\athar\\.flair\\datasets\\nel_english_aida\\testa\n",
      "2021-11-16 12:04:59,055 Test: C:\\Users\\athar\\.flair\\datasets\\nel_english_aida\\testb\n"
     ]
    }
   ],
   "source": [
    "aida = datasets.NEL_ENGLISH_AIDA()\n",
    "DBPedia_desc = pd.read_csv('./data/DBPedia.csv')\n",
    "DBPedia_entites = DBPedia_desc['title'].unique()"
   ]
  },
  {
   "cell_type": "code",
   "execution_count": 3,
   "metadata": {},
   "outputs": [],
   "source": [
    "# Get all valid candidate entities for the test set\n",
    "entities = []\n",
    "\n",
    "for i in range(1163, 1394):\n",
    "\tcands = get_candidates(i)\n",
    "\tentities += list(cands['url'].unique())\n",
    "\n",
    "for i in aida.test:\n",
    "\tentities += [j.tag for j in i.get_spans()]\n",
    "\n",
    "entities = [i.split('/')[-1] for i in set(entities)]\n",
    "entities = list(set(entities))"
   ]
  },
  {
   "cell_type": "code",
   "execution_count": 4,
   "metadata": {},
   "outputs": [],
   "source": [
    "def get_desc(entity):\n",
    "\ttry:\n",
    "\t\treturn DBPedia_desc[DBPedia_desc['title'] == entity]['description'].values[0]\n",
    "\texcept Exception as e:\n",
    "\t\treturn ''"
   ]
  },
  {
   "cell_type": "code",
   "execution_count": 5,
   "metadata": {},
   "outputs": [
    {
     "name": "stderr",
     "output_type": "stream",
     "text": [
      "100%|██████████| 14944/14944 [1:29:30<00:00,  2.78it/s]\n"
     ]
    }
   ],
   "source": [
    "entity_desc = []\n",
    "missing = []\n",
    "for i in tqdm(entities):\n",
    "\tdesc = get_desc(i).replace('\\n', ' ')\n",
    "\tif desc == '':\n",
    "\t\tmissing.append(i)\n",
    "\telse:\n",
    "\t\tentity_desc.append([i, desc])"
   ]
  },
  {
   "cell_type": "code",
   "execution_count": 6,
   "metadata": {},
   "outputs": [
    {
     "name": "stderr",
     "output_type": "stream",
     "text": [
      "100%|██████████| 1532/1532 [19:42<00:00,  1.30it/s]\n"
     ]
    }
   ],
   "source": [
    "invalid = []\n",
    "for i in tqdm(missing):\n",
    "\tinfo, desc = getEntityInfo(i, inc_extract=True)\n",
    "\tif info != 'Topics referred to by the same term' and desc != '':\n",
    "\t\tentity_desc.append([i, desc.replace('\\n', ' ')])\n",
    "\telse:\n",
    "\t\tinvalid.append(i)"
   ]
  },
  {
   "cell_type": "code",
   "execution_count": 7,
   "metadata": {},
   "outputs": [],
   "source": [
    "entity_desc_df = pd.DataFrame(entity_desc, columns=['entity', 'description'])"
   ]
  },
  {
   "cell_type": "code",
   "execution_count": 8,
   "metadata": {},
   "outputs": [],
   "source": [
    "entity_desc_df.to_csv('data/entity_desc.csv', index=False)"
   ]
  }
 ],
 "metadata": {
  "interpreter": {
   "hash": "d3c83394ae731fac5cbf34b5abe7ebcd59fb96b846f104eed2689aeb9dd8ae81"
  },
  "kernelspec": {
   "display_name": "Python 3.8.12 64-bit ('NED-using-KG': conda)",
   "language": "python",
   "name": "python3"
  },
  "language_info": {
   "codemirror_mode": {
    "name": "ipython",
    "version": 3
   },
   "file_extension": ".py",
   "mimetype": "text/x-python",
   "name": "python",
   "nbconvert_exporter": "python",
   "pygments_lexer": "ipython3",
   "version": "3.8.12"
  },
  "orig_nbformat": 4
 },
 "nbformat": 4,
 "nbformat_minor": 2
}
