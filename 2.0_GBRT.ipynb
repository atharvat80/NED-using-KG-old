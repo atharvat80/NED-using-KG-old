{
 "cells": [
  {
   "cell_type": "code",
   "execution_count": 2,
   "metadata": {},
   "outputs": [],
   "source": [
    "import warnings\n",
    "warnings.filterwarnings('ignore')"
   ]
  },
  {
   "cell_type": "markdown",
   "metadata": {},
   "source": [
    "# Setup"
   ]
  },
  {
   "cell_type": "code",
   "execution_count": 3,
   "metadata": {},
   "outputs": [],
   "source": [
    "import flair.datasets as datasets\n",
    "from data.utils import getCandidates, getDocument\n",
    "from src.models.gbrt import GBRT\n",
    "from wikipedia2vec import Wikipedia2Vec\n",
    "from tqdm import tqdm"
   ]
  },
  {
   "cell_type": "code",
   "execution_count": 4,
   "metadata": {},
   "outputs": [],
   "source": [
    "EMB_PATH = \"./embeddings/\"\n",
    "wiki2vec = Wikipedia2Vec.load(EMB_PATH + 'wiki2vec_w10_100d.pkl')\n",
    "model = GBRT(wiki2vec)"
   ]
  },
  {
   "cell_type": "code",
   "execution_count": 5,
   "metadata": {},
   "outputs": [
    {
     "name": "stdout",
     "output_type": "stream",
     "text": [
      "2021-11-24 15:17:20,137 Reading data from C:\\Users\\athar\\.flair\\datasets\\nel_english_aida\n",
      "2021-11-24 15:17:20,139 Train: C:\\Users\\athar\\.flair\\datasets\\nel_english_aida\\train\n",
      "2021-11-24 15:17:20,141 Dev: C:\\Users\\athar\\.flair\\datasets\\nel_english_aida\\testa\n",
      "2021-11-24 15:17:20,142 Test: C:\\Users\\athar\\.flair\\datasets\\nel_english_aida\\testb\n"
     ]
    }
   ],
   "source": [
    "aida = datasets.NEL_ENGLISH_AIDA()\n",
    "mentions_tags = []\n",
    "doc = 1162\n",
    "for i in aida.test:\n",
    "\tcontext = i.to_plain_string()\n",
    "\tif context != '-DOCSTART-':\n",
    "\t\tmentions_tags += [[j.text, j.tag, context, doc] for j in i.get_spans()]\n",
    "\telse:\n",
    "\t\tdoc += 1"
   ]
  },
  {
   "cell_type": "code",
   "execution_count": 6,
   "metadata": {},
   "outputs": [],
   "source": [
    "def get_candidates(mention, doc):\n",
    "\tdf = getCandidates(doc, mention=mention)\n",
    "\treturn [i.split('/')[-1] for i in df['url'].values]"
   ]
  },
  {
   "cell_type": "markdown",
   "metadata": {},
   "source": [
    "# Initial Tests"
   ]
  },
  {
   "cell_type": "markdown",
   "metadata": {},
   "source": [
    "Use sentence of the mention as the context"
   ]
  },
  {
   "cell_type": "code",
   "execution_count": 7,
   "metadata": {},
   "outputs": [
    {
     "name": "stderr",
     "output_type": "stream",
     "text": [
      "100%|██████████| 4497/4497 [00:49<00:00, 90.44it/s] "
     ]
    },
    {
     "name": "stdout",
     "output_type": "stream",
     "text": [
      "Accuracy: 67.95%\n",
      "Total test samples: 4250\n"
     ]
    },
    {
     "name": "stderr",
     "output_type": "stream",
     "text": [
      "\n"
     ]
    }
   ],
   "source": [
    "preds = []\n",
    "for mention, tag, context, docNum in tqdm(mentions_tags):\n",
    "\tdocText = getDocument(docNum)\n",
    "\tcandidates = get_candidates(mention, docNum)\n",
    "\tif tag in candidates:\n",
    "\t\tpred, conf = model.link(mention, context, candidates)\n",
    "\t\tpreds.append([mention, tag, pred.replace(' ','_')])\n",
    "\n",
    "accuracy = round((sum([1 for _, t, p in preds if t == p]) / len(preds)) * 100, 2)\n",
    "print(f'Accuracy: {accuracy}%\\nTotal test samples: {len(preds)}')"
   ]
  },
  {
   "cell_type": "markdown",
   "metadata": {},
   "source": [
    "Use the whole document as the context"
   ]
  },
  {
   "cell_type": "code",
   "execution_count": 8,
   "metadata": {},
   "outputs": [
    {
     "name": "stderr",
     "output_type": "stream",
     "text": [
      "100%|██████████| 4497/4497 [03:08<00:00, 23.88it/s]"
     ]
    },
    {
     "name": "stdout",
     "output_type": "stream",
     "text": [
      "Accuracy: 64.38%\n",
      "Total test samples: 4250\n"
     ]
    },
    {
     "name": "stderr",
     "output_type": "stream",
     "text": [
      "\n"
     ]
    }
   ],
   "source": [
    "preds = []\n",
    "for mention, tag, context, docNum in tqdm(mentions_tags):\n",
    "\tdocText = getDocument(docNum)\n",
    "\tcandidates = get_candidates(mention, docNum)\n",
    "\tif tag in candidates:\n",
    "\t\tpred, conf = model.link(mention, docText, candidates)\n",
    "\t\tpreds.append([mention, tag, pred.replace(' ','_')])\n",
    "\n",
    "accuracy = round((sum([1 for _, t, p in preds if t == p]) / len(preds)) * 100, 2)\n",
    "print(f'Accuracy: {accuracy}%\\nTotal test samples: {len(preds)}')"
   ]
  }
 ],
 "metadata": {
  "interpreter": {
   "hash": "d3c83394ae731fac5cbf34b5abe7ebcd59fb96b846f104eed2689aeb9dd8ae81"
  },
  "kernelspec": {
   "display_name": "Python 3.8.12 64-bit ('NED-using-KG': conda)",
   "language": "python",
   "name": "python3"
  },
  "language_info": {
   "codemirror_mode": {
    "name": "ipython",
    "version": 3
   },
   "file_extension": ".py",
   "mimetype": "text/x-python",
   "name": "python",
   "nbconvert_exporter": "python",
   "pygments_lexer": "ipython3",
   "version": "3.8.12"
  },
  "orig_nbformat": 4
 },
 "nbformat": 4,
 "nbformat_minor": 2
}
