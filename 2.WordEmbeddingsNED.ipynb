{
 "cells": [
  {
   "cell_type": "code",
   "execution_count": 1,
   "metadata": {},
   "outputs": [],
   "source": [
    "from IPython.display import display\n",
    "from pprint import pprint\n",
    "from flair.embeddings import BytePairEmbeddings, WordEmbeddings, StackedEmbeddings\n",
    "from flair.embeddings import DocumentPoolEmbeddings, DocumentLSTMEmbeddings\n",
    "\n",
    "from src.ned import BasicFlairNED\n",
    "from src.utils import WikiDataSearch\n",
    "\n",
    "import warnings\n",
    "warnings.filterwarnings('ignore')"
   ]
  },
  {
   "cell_type": "code",
   "execution_count": 2,
   "metadata": {},
   "outputs": [],
   "source": [
    "examples = [\n",
    "    [\"London\", \"Crime is on the rise in London, which is of grave concern to the regional government in Ontario\"],\n",
    "    [\"jaguar\", \"the prey saw the jaguar cross the jungle\"],\n",
    "    [\"blackberry\", \"The blackberry is an edible fruit produced by many species in the Rubus genus in the Rosaceae family, hybrids among these species within the Rubus subgenus, and hybrids between the Rubus and Idaeobatus subgenera\"],\n",
    "    [\"BlackBerry\", \"During the second financial quarter of 2013, BlackBerry sold 6.8 million handsets, but was eclipsed by the sales of competitor Nokia's Lumia model for the first time\"],\n",
    "    [\"string\", \"You can manipulate strings in Python\"],\n",
    "    [\"python\", \"A python is typically not venomous\"],\n",
    "    [\"queen\", \"In England, the queen still has a lot of power\"],\n",
    "]\n",
    "\n",
    "for i in examples:\n",
    "    i.append([(i['label'], i['description']) for i in WikiDataSearch(i[0], num_results=5)])"
   ]
  },
  {
   "cell_type": "code",
   "execution_count": 3,
   "metadata": {},
   "outputs": [],
   "source": [
    "# Word embeddings\n",
    "glove = WordEmbeddings('en-glove')\n",
    "byte_pair = BytePairEmbeddings('en', dim=300)\n",
    "stacked = StackedEmbeddings([glove, byte_pair])\n",
    "\n",
    "# Document embeddings\n",
    "word_embs = [glove, byte_pair, stacked]\n",
    "doc_pool_emb = [DocumentPoolEmbeddings([i], fine_tune_mode='nonlinear') for i in word_embs]\n",
    "doc_lstm_emb = [DocumentLSTMEmbeddings([i]) for i in word_embs]"
   ]
  },
  {
   "cell_type": "markdown",
   "metadata": {},
   "source": [
    "**Hows does filtering stopwords affect the accuracy?**\n",
    "\n",
    "Filtering yields higher accuracy."
   ]
  },
  {
   "cell_type": "code",
   "execution_count": 4,
   "metadata": {},
   "outputs": [
    {
     "name": "stdout",
     "output_type": "stream",
     "text": [
      "Example 1\n",
      "['London Recordings', 'record label headquartered in the United Kingdom', 0.9194797873497009]\n",
      "['London', 'capital and largest city of the United Kingdom', 0.8630125522613525]\n",
      "['London', 'capital and largest city of the United Kingdom', 0.8723223209381104]\n",
      "\n",
      "Example 2\n",
      "['Panthera onca', 'species of big cat native to the Americas', 0.9407569766044617]\n",
      "['Panthera onca', 'species of big cat native to the Americas', 0.8426408171653748]\n",
      "['Panthera onca', 'species of big cat native to the Americas', 0.8692948818206787]\n",
      "\n",
      "Example 3\n",
      "['Morus nigra', 'species of plant', 0.9366182684898376]\n",
      "['Rubus subg. Rubus', 'subgenus of plants', 0.9004514813423157]\n",
      "['Morus nigra', 'species of plant', 0.8973059058189392]\n",
      "\n",
      "Example 4\n",
      "['BlackBerry', 'line of wireless handheld devices and services', 0.9404322504997253]\n",
      "['BlackBerry', 'line of wireless handheld devices and services', 0.8622153997421265]\n",
      "['BlackBerry', 'line of wireless handheld devices and services', 0.8931212425231934]\n",
      "\n",
      "Example 5\n",
      "['string', 'sequence of characters, data type', 0.7759884595870972]\n",
      "['string', 'sequence of characters, data type', 0.7237980365753174]\n",
      "['string', 'sequence of characters, data type', 0.6795083284378052]\n",
      "\n",
      "Example 6\n",
      "['CPython', 'Python reference implementation', 0.84775710105896]\n",
      "['CPython', 'Python reference implementation', 0.8439242839813232]\n",
      "['CPython', 'Python reference implementation', 0.8122571706771851]\n",
      "\n",
      "Example 7\n",
      "['Elizabeth II', 'queen of the UK, Canada, Australia, and New Zealand, and head of the Commonwealth of Nations', 0.9640824794769287]\n",
      "['monarch', 'person at the head of a monarchy', 0.923923671245575]\n",
      "['Elizabeth II', 'queen of the UK, Canada, Australia, and New Zealand, and head of the Commonwealth of Nations', 0.937658429145813]\n",
      "\n"
     ]
    }
   ],
   "source": [
    "# 4.5s\n",
    "i = 1\n",
    "for mention, context, candidates in examples:\n",
    "    print(f'Example {i}')\n",
    "    for j in doc_pool_emb:\n",
    "        print(BasicFlairNED(j).link(mention, context, candidates=candidates, filter=False))  \n",
    "    print('')\n",
    "    i += 1"
   ]
  },
  {
   "cell_type": "code",
   "execution_count": 5,
   "metadata": {},
   "outputs": [
    {
     "name": "stdout",
     "output_type": "stream",
     "text": [
      "Example 1\n",
      "['London', 'capital and largest city of the United Kingdom', 0.8435491323471069]\n",
      "['London Recordings', 'record label headquartered in the United Kingdom', 0.776979386806488]\n",
      "['London', 'capital and largest city of the United Kingdom', 0.7625173330307007]\n",
      "\n",
      "Example 2\n",
      "['SEPECAT Jaguar', 'attack aircraft family by SEPECAT', 0.8776717782020569]\n",
      "['Panthera onca', 'species of big cat native to the Americas', 0.7397872805595398]\n",
      "['Panthera onca', 'species of big cat native to the Americas', 0.7568628191947937]\n",
      "\n",
      "Example 3\n",
      "['Morus nigra', 'species of plant', 0.8856815099716187]\n",
      "['Rubus subg. Rubus', 'subgenus of plants', 0.8794227242469788]\n",
      "['Rubus subg. Rubus', 'subgenus of plants', 0.849000871181488]\n",
      "\n",
      "Example 4\n",
      "['BlackBerry', 'line of wireless handheld devices and services', 0.8608808517456055]\n",
      "['BlackBerry', 'line of wireless handheld devices and services', 0.7795313596725464]\n",
      "['BlackBerry', 'line of wireless handheld devices and services', 0.8076196312904358]\n",
      "\n",
      "Example 5\n",
      "['string', 'sequence of characters, data type', 0.6647087335586548]\n",
      "['string', 'sequence of characters, data type', 0.6191984415054321]\n",
      "['string', 'sequence of characters, data type', 0.588302493095398]\n",
      "\n",
      "Example 6\n",
      "['CPython', 'Python reference implementation', 0.8109534382820129]\n",
      "['CPython', 'Python reference implementation', 0.8306724429130554]\n",
      "['CPython', 'Python reference implementation', 0.804126501083374]\n",
      "\n",
      "Example 7\n",
      "['queen regnant', 'female monarch who rules a country in her own right', 0.9129925966262817]\n",
      "['Elizabeth II', 'queen of the UK, Canada, Australia, and New Zealand, and head of the Commonwealth of Nations', 0.8025029301643372]\n",
      "['Elizabeth II', 'queen of the UK, Canada, Australia, and New Zealand, and head of the Commonwealth of Nations', 0.8088531494140625]\n",
      "\n"
     ]
    }
   ],
   "source": [
    "i = 1\n",
    "for mention, context, candidates in examples:\n",
    "    print(f'Example {i}')\n",
    "    for j in doc_pool_emb:\n",
    "        print(BasicFlairNED(j).link(mention, context, candidates=candidates))   \n",
    "    print('')\n",
    "    i += 1"
   ]
  },
  {
   "cell_type": "markdown",
   "metadata": {},
   "source": [
    "**LSTM vs pooled document embeddings**\n",
    "\n",
    "glove embeddings are best for LSTM document embeddings"
   ]
  },
  {
   "cell_type": "code",
   "execution_count": 6,
   "metadata": {},
   "outputs": [
    {
     "name": "stdout",
     "output_type": "stream",
     "text": [
      "Example 1\n",
      "['London', 'capital and largest city of the United Kingdom', 0.35421788692474365]\n",
      "['London Recordings', 'record label headquartered in the United Kingdom', 0.0831252858042717]\n",
      "['London', 'capital and largest city of the United Kingdom', 0.2235107421875]\n",
      "\n",
      "Example 2\n",
      "['Panthera onca', 'species of big cat native to the Americas', 0.20707660913467407]\n",
      "['Atari Jaguar', 'home video game console', 0.187770813703537]\n",
      "['SEPECAT Jaguar', 'attack aircraft family by SEPECAT', 0.06644438952207565]\n",
      "\n",
      "Example 3\n",
      "['Rubus subg. Rubus', 'subgenus of plants', 0.15163472294807434]\n",
      "['Morus nigra', 'species of plant', 0.24355703592300415]\n",
      "['Rubus subg. Rubus', 'subgenus of plants', 0.12246812134981155]\n",
      "\n",
      "Example 4\n",
      "['BlackBerry', 'line of wireless handheld devices and services', 0.2196783423423767]\n",
      "['Rubus subg. Rubus', 'subgenus of plants', 0.24233907461166382]\n",
      "['BlackBerry', 'line of wireless handheld devices and services', 0.24189844727516174]\n",
      "\n",
      "Example 5\n",
      "['string', 'sequence of characters, data type', 0.05108438804745674]\n",
      "['string', 'sequence of characters, data type', 0.008682049810886383]\n",
      "['string', 'sequence of characters, data type', -0.10789677500724792]\n",
      "\n",
      "Example 6\n",
      "['Python', 'general-purpose programming language', 0.1660362184047699]\n",
      "['Python', 'general-purpose programming language', 0.020310863852500916]\n",
      "['CPython', 'Python reference implementation', 0.07318008691072464]\n",
      "\n",
      "Example 7\n",
      "['Elizabeth II', 'queen of the UK, Canada, Australia, and New Zealand, and head of the Commonwealth of Nations', 0.37702780961990356]\n",
      "['queen regnant', 'female monarch who rules a country in her own right', 0.21358543634414673]\n",
      "['monarch', 'person at the head of a monarchy', 0.18053969740867615]\n",
      "\n"
     ]
    }
   ],
   "source": [
    "i = 1\n",
    "for mention, context, candidates in examples:\n",
    "    print(f'Example {i}')\n",
    "    for j in doc_lstm_emb:\n",
    "        print(BasicFlairNED(j).link(mention, context, candidates=candidates))   \n",
    "    print('')\n",
    "    i += 1"
   ]
  }
 ],
 "metadata": {
  "interpreter": {
   "hash": "d3c83394ae731fac5cbf34b5abe7ebcd59fb96b846f104eed2689aeb9dd8ae81"
  },
  "kernelspec": {
   "display_name": "Python 3.8.12 64-bit ('NED-using-KG': conda)",
   "language": "python",
   "name": "python3"
  },
  "language_info": {
   "codemirror_mode": {
    "name": "ipython",
    "version": 3
   },
   "file_extension": ".py",
   "mimetype": "text/x-python",
   "name": "python",
   "nbconvert_exporter": "python",
   "pygments_lexer": "ipython3",
   "version": "3.8.12"
  },
  "orig_nbformat": 4
 },
 "nbformat": 4,
 "nbformat_minor": 2
}
