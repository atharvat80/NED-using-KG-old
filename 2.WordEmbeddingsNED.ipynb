{
 "cells": [
  {
   "cell_type": "code",
   "execution_count": 1,
   "metadata": {},
   "outputs": [],
   "source": [
    "from IPython.display import display\n",
    "from pprint import pprint\n",
    "from flair.embeddings import BytePairEmbeddings, WordEmbeddings, StackedEmbeddings\n",
    "from flair.embeddings import DocumentPoolEmbeddings, DocumentLSTMEmbeddings\n",
    "\n",
    "from src.ned import BasicFlairNED\n",
    "from src.utils import WikiDataSearch\n",
    "\n",
    "import warnings\n",
    "warnings.filterwarnings('ignore')"
   ]
  },
  {
   "cell_type": "code",
   "execution_count": 2,
   "metadata": {},
   "outputs": [],
   "source": [
    "examples = [\n",
    "    [\"London\", \"Crime is on the rise in London, which is of grave concern to the regional government in Ontario\"],\n",
    "    [\"jaguar\", \"the prey saw the jaguar cross the jungle\"],\n",
    "    [\"blackberry\", \"The blackberry is an edible fruit produced by many species in the Rubus genus in the Rosaceae family, hybrids among these species within the Rubus subgenus, and hybrids between the Rubus and Idaeobatus subgenera\"],\n",
    "    [\"BlackBerry\", \"During the second financial quarter of 2013, BlackBerry sold 6.8 million handsets, but was eclipsed by the sales of competitor Nokia's Lumia model for the first time\"],\n",
    "    [\"string\", \"You can manipulate strings in Python\"],\n",
    "    [\"python\", \"A python is typically not venomous\"],\n",
    "    [\"queen\", \"In England, the queen still has a lot of power\"],\n",
    "]\n",
    "\n",
    "for i in examples:\n",
    "    i.append([(i['label'], i['description']) for i in WikiDataSearch(i[0], num_results=5)])"
   ]
  },
  {
   "cell_type": "code",
   "execution_count": 3,
   "metadata": {},
   "outputs": [],
   "source": [
    "# Word embeddings\n",
    "glove = WordEmbeddings('en-glove')\n",
    "byte_pair = BytePairEmbeddings('en', dim=300)\n",
    "stacked = StackedEmbeddings([glove, byte_pair])\n",
    "\n",
    "# Document embeddings\n",
    "word_embs = [glove, byte_pair, stacked]\n",
    "doc_pool_emb = [DocumentPoolEmbeddings([i], fine_tune_mode='nonlinear') for i in word_embs]\n",
    "doc_lstm_emb = [DocumentLSTMEmbeddings([i]) for i in word_embs]"
   ]
  },
  {
   "cell_type": "markdown",
   "metadata": {},
   "source": [
    "**Hows does filtering stopwords affect the accuracy?**\n",
    "\n",
    "Filtering yields higher accuracy."
   ]
  },
  {
   "cell_type": "code",
   "execution_count": 4,
   "metadata": {},
   "outputs": [
    {
     "name": "stdout",
     "output_type": "stream",
     "text": [
      "Example 1\n",
      "['London', 'capital and largest city of the United Kingdom', 0.9563388228416443]\n",
      "['London', 'capital and largest city of the United Kingdom', 0.8743845224380493]\n",
      "['London', 'capital and largest city of the United Kingdom', 0.9134705662727356]\n",
      "\n",
      "Example 2\n",
      "['Jaguar', 'species of big cat native to the Americas', 0.9432498216629028]\n",
      "['Jaguar', 'species of big cat native to the Americas', 0.813769519329071]\n",
      "['Jaguar', 'species of big cat native to the Americas', 0.8740254044532776]\n",
      "\n",
      "Example 3\n",
      "['Morus nigra', 'species of plant', 0.9250785708427429]\n",
      "['Rubus subg. Rubus', 'subgenus of plants', 0.8898826837539673]\n",
      "['Morus nigra', 'species of plant', 0.9005131721496582]\n",
      "\n",
      "Example 4\n",
      "['BlackBerry Limited', 'enterprise software and the Internet of things company', 0.932644248008728]\n",
      "['BlackBerry Limited', 'enterprise software and the Internet of things company', 0.8701114654541016]\n",
      "['BlackBerry Limited', 'enterprise software and the Internet of things company', 0.9008198380470276]\n",
      "\n",
      "Example 5\n",
      "['String (computer science)', 'sequence of characters, data type', 0.9166398048400879]\n",
      "['String (music)', 'musical instrument part, made from metal or plastic', 0.7724123597145081]\n",
      "['String (music)', 'musical instrument part, made from metal or plastic', 0.8442203998565674]\n",
      "\n",
      "Example 6\n",
      "['Python (genus)', 'genus of reptiles', 0.8436945080757141]\n",
      "['CPython', 'Python reference implementation', 0.809973955154419]\n",
      "['CPython', 'Python reference implementation', 0.8276455998420715]\n",
      "\n",
      "Example 7\n",
      "['Queen regnant', 'female monarch who rules a country in her own right', 0.9648456573486328]\n",
      "['Elizabeth II', 'queen of the UK, Canada, Australia, and New Zealand, and head of the Commonwealth of Nations', 0.9153357148170471]\n",
      "['Elizabeth II', 'queen of the UK, Canada, Australia, and New Zealand, and head of the Commonwealth of Nations', 0.9338300228118896]\n",
      "\n"
     ]
    }
   ],
   "source": [
    "# 4.5s\n",
    "i = 1\n",
    "for mention, context, candidates in examples:\n",
    "    print(f'Example {i}')\n",
    "    for j in doc_pool_emb:\n",
    "        print(BasicFlairNED(j).link(mention, context, candidates=candidates, filter=False))  \n",
    "    print('')\n",
    "    i += 1"
   ]
  },
  {
   "cell_type": "code",
   "execution_count": 5,
   "metadata": {},
   "outputs": [
    {
     "name": "stdout",
     "output_type": "stream",
     "text": [
      "Example 1\n",
      "['London', 'capital and largest city of the United Kingdom', 0.8947444558143616]\n",
      "['London, Ontario', 'city in Southwestern Ontario, Canada', 0.8091950416564941]\n",
      "['London', 'capital and largest city of the United Kingdom', 0.8124164938926697]\n",
      "\n",
      "Example 2\n",
      "['Jaguar', 'species of big cat native to the Americas', 0.866437554359436]\n",
      "['Jaguar', 'species of big cat native to the Americas', 0.708823561668396]\n",
      "['Jaguar', 'species of big cat native to the Americas', 0.7738799452781677]\n",
      "\n",
      "Example 3\n",
      "['Rubus subg. Rubus', 'subgenus of plants', 0.876771092414856]\n",
      "['Rubus subg. Rubus', 'subgenus of plants', 0.8768600225448608]\n",
      "['Rubus subg. Rubus', 'subgenus of plants', 0.8649259805679321]\n",
      "\n",
      "Example 4\n",
      "['BlackBerry', 'line of wireless handheld devices and services', 0.8552094101905823]\n",
      "['BlackBerry', 'line of wireless handheld devices and services', 0.7980839014053345]\n",
      "['BlackBerry Limited', 'enterprise software and the Internet of things company', 0.8125943541526794]\n",
      "\n",
      "Example 5\n",
      "['String (music)', 'musical instrument part, made from metal or plastic', 0.7895748615264893]\n",
      "['String (structure)', 'long, flexible structure made from fibers twisted together', 0.6553863883018494]\n",
      "['String (computer science)', 'sequence of characters, data type', 0.7016512155532837]\n",
      "\n",
      "Example 6\n",
      "['CPython', 'Python reference implementation', 0.8094600439071655]\n",
      "['CPython', 'Python reference implementation', 0.7962863445281982]\n",
      "['CPython', 'Python reference implementation', 0.8231481313705444]\n",
      "\n",
      "Example 7\n",
      "['Queen regnant', 'female monarch who rules a country in her own right', 0.89516681432724]\n",
      "['Elizabeth II', 'queen of the UK, Canada, Australia, and New Zealand, and head of the Commonwealth of Nations', 0.7871096134185791]\n",
      "['Queen regnant', 'female monarch who rules a country in her own right', 0.8153060078620911]\n",
      "\n"
     ]
    }
   ],
   "source": [
    "i = 1\n",
    "for mention, context, candidates in examples:\n",
    "    print(f'Example {i}')\n",
    "    for j in doc_pool_emb:\n",
    "        print(BasicFlairNED(j).link(mention, context, candidates=candidates))   \n",
    "    print('')\n",
    "    i += 1"
   ]
  },
  {
   "cell_type": "markdown",
   "metadata": {},
   "source": [
    "**LSTM vs pooled document embeddings**\n",
    "\n",
    "glove embeddings are best for LSTM document embeddings"
   ]
  },
  {
   "cell_type": "code",
   "execution_count": 6,
   "metadata": {},
   "outputs": [
    {
     "name": "stdout",
     "output_type": "stream",
     "text": [
      "Example 1\n",
      "['London, Kentucky', 'city in Kentucky, United States', 0.39464110136032104]\n",
      "['London, Ontario', 'city in Southwestern Ontario, Canada', 0.39206093549728394]\n",
      "['London Recordings', 'record label headquartered in the United Kingdom', 0.12494296580553055]\n",
      "\n",
      "Example 2\n",
      "['Jaguar', 'species of big cat native to the Americas', 0.2696046233177185]\n",
      "['Jaguar', 'species of big cat native to the Americas', 0.11995638161897659]\n",
      "['SEPECAT Jaguar', 'attack aircraft family by SEPECAT', 0.07468104362487793]\n",
      "\n",
      "Example 3\n",
      "['Morus nigra', 'species of plant', 0.14807263016700745]\n",
      "['Morus nigra', 'species of plant', 0.2621464431285858]\n",
      "['Morus nigra', 'species of plant', 0.1737596094608307]\n",
      "\n",
      "Example 4\n",
      "['BlackBerry Limited', 'enterprise software and the Internet of things company', 0.3491867184638977]\n",
      "['Morus nigra', 'species of plant', 0.1866304576396942]\n",
      "['BlackBerry Limited', 'enterprise software and the Internet of things company', 0.23131796717643738]\n",
      "\n",
      "Example 5\n",
      "['String (structure)', 'long, flexible structure made from fibers twisted together', 0.1379142701625824]\n",
      "['String (computer science)', 'sequence of characters, data type', 0.11791197210550308]\n",
      "['String (computer science)', 'sequence of characters, data type', 0.118182472884655]\n",
      "\n",
      "Example 6\n",
      "['CPython', 'Python reference implementation', 0.23851165175437927]\n",
      "['Python (genus)', 'genus of reptiles', 0.22186267375946045]\n",
      "['Python (genus)', 'genus of reptiles', 0.1200166642665863]\n",
      "\n",
      "Example 7\n",
      "['Queen regnant', 'female monarch who rules a country in her own right', 0.28362661600112915]\n",
      "['Queen regnant', 'female monarch who rules a country in her own right', 0.10788298398256302]\n",
      "['Queen (band)', 'British rock band (1970-)', 0.2679925560951233]\n",
      "\n"
     ]
    }
   ],
   "source": [
    "i = 1\n",
    "for mention, context, candidates in examples:\n",
    "    print(f'Example {i}')\n",
    "    for j in doc_lstm_emb:\n",
    "        print(BasicFlairNED(j).link(mention, context, candidates=candidates))   \n",
    "    print('')\n",
    "    i += 1"
   ]
  }
 ],
 "metadata": {
  "interpreter": {
   "hash": "d3c83394ae731fac5cbf34b5abe7ebcd59fb96b846f104eed2689aeb9dd8ae81"
  },
  "kernelspec": {
   "display_name": "Python 3.8.12 64-bit ('NED-using-KG': conda)",
   "language": "python",
   "name": "python3"
  },
  "language_info": {
   "codemirror_mode": {
    "name": "ipython",
    "version": 3
   },
   "file_extension": ".py",
   "mimetype": "text/x-python",
   "name": "python",
   "nbconvert_exporter": "python",
   "pygments_lexer": "ipython3",
   "version": "3.8.12"
  },
  "orig_nbformat": 4
 },
 "nbformat": 4,
 "nbformat_minor": 2
}
