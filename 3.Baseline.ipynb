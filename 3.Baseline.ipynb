{
 "cells": [
  {
   "cell_type": "markdown",
   "metadata": {},
   "source": [
    "# Setup"
   ]
  },
  {
   "cell_type": "code",
   "execution_count": 1,
   "metadata": {},
   "outputs": [],
   "source": [
    "import pandas as pd\n",
    "import flair.datasets as datasets\n",
    "\n",
    "from tqdm import tqdm \n",
    "from flair.embeddings import BytePairEmbeddings, DocumentPoolEmbeddings, WordEmbeddings\n",
    "from flair.embeddings import TransformerDocumentEmbeddings\n",
    "from src.ned import BasicFlairNED\n",
    "from test import get_candidates"
   ]
  },
  {
   "cell_type": "code",
   "execution_count": 2,
   "metadata": {},
   "outputs": [
    {
     "name": "stdout",
     "output_type": "stream",
     "text": [
      "2021-11-16 21:14:16,527 Reading data from C:\\Users\\athar\\.flair\\datasets\\nel_english_aida\n",
      "2021-11-16 21:14:16,529 Train: C:\\Users\\athar\\.flair\\datasets\\nel_english_aida\\train\n",
      "2021-11-16 21:14:16,531 Dev: C:\\Users\\athar\\.flair\\datasets\\nel_english_aida\\testa\n",
      "2021-11-16 21:14:16,532 Test: C:\\Users\\athar\\.flair\\datasets\\nel_english_aida\\testb\n"
     ]
    }
   ],
   "source": [
    "aida = datasets.NEL_ENGLISH_AIDA()\n",
    "mentions_tags = []\n",
    "doc = 1162\n",
    "for i in aida.test:\n",
    "\tcontext = i.to_plain_string()\n",
    "\tif context != '-DOCSTART-':\n",
    "\t\tmentions_tags += [[j.text, j.tag, context, doc] for j in i.get_spans()]\n",
    "\telse:\n",
    "\t\tdoc += 1"
   ]
  },
  {
   "cell_type": "code",
   "execution_count": 3,
   "metadata": {},
   "outputs": [],
   "source": [
    "entity_desc = pd.read_csv('./data/entity_desc.csv')\n",
    "\n",
    "def candidates(mention, doc):\n",
    "\tdf = get_candidates(doc)\n",
    "\tcands = [[i.split('/')[-1]] for i in df[df['forMention'] == mention]['url'].values]\n",
    "\tfor i in cands:\n",
    "\t\ttry:\n",
    "\t\t\tdesc = entity_desc[entity_desc['entity'] == i[0]]['description'].values[0]\n",
    "\t\texcept Exception as e:\n",
    "\t\t\tdesc = ''\n",
    "\t\ti.append(desc)\n",
    "\treturn cands"
   ]
  },
  {
   "cell_type": "markdown",
   "metadata": {},
   "source": [
    "# Testing base NED model using various types of embeddings"
   ]
  },
  {
   "cell_type": "code",
   "execution_count": 4,
   "metadata": {},
   "outputs": [],
   "source": [
    "def test_model(model):\n",
    "\tpreds = []\n",
    "\tfor mention, tag, context, doc in tqdm(mentions_tags):\n",
    "\t\tcands = candidates(mention, doc)\n",
    "\t\t# check if the tag is in the candidates\n",
    "\t\tif tag in [i[0] for i in cands]:\n",
    "\t\t\ttry:\n",
    "\t\t\t\tpred_tag, desc, conf = model.link(mention, context, candidates=cands)\n",
    "\t\t\t\tpreds.append([mention, tag, pred_tag, conf])\n",
    "\t\t\texcept Exception as e:\n",
    "\t\t\t\tpass\n",
    "\n",
    "\tres = pd.DataFrame(preds, columns=['mention', 'tag', 'predicted', 'confidence'])\n",
    "\tacc = (res[res['tag'] == res['predicted']].shape[0]/res.shape[0])*100\n",
    "\treturn res, acc"
   ]
  },
  {
   "cell_type": "markdown",
   "metadata": {},
   "source": [
    "### Byte-Pair, 300d"
   ]
  },
  {
   "cell_type": "code",
   "execution_count": 18,
   "metadata": {},
   "outputs": [
    {
     "name": "stderr",
     "output_type": "stream",
     "text": [
      "100%|██████████| 4497/4497 [06:41<00:00, 11.20it/s]"
     ]
    },
    {
     "name": "stdout",
     "output_type": "stream",
     "text": [
      "Byte Pair 57.59609517998779\n"
     ]
    },
    {
     "name": "stderr",
     "output_type": "stream",
     "text": [
      "\n"
     ]
    }
   ],
   "source": [
    "byte_pair = BytePairEmbeddings('en', dim=300)\n",
    "bp_doc_emb = DocumentPoolEmbeddings([byte_pair], fine_tune_mode='nonlinear')\n",
    "bp_res, bp_acc = test_model(BasicFlairNED(bp_doc_emb, cased=False))\n",
    "bp_res.to_csv('./results/base_byte_pair.csv')\n",
    "print('Byte Pair', bp_acc)\n",
    "# Cased   : 58.42 %\n",
    "# Uncased : 57.60 %"
   ]
  },
  {
   "cell_type": "markdown",
   "metadata": {},
   "source": [
    "### Glove Wiki-Gigaword 300d"
   ]
  },
  {
   "cell_type": "code",
   "execution_count": 6,
   "metadata": {},
   "outputs": [
    {
     "name": "stderr",
     "output_type": "stream",
     "text": [
      "100%|██████████| 4497/4497 [05:50<00:00, 12.83it/s]"
     ]
    },
    {
     "name": "stdout",
     "output_type": "stream",
     "text": [
      "Glove 63.02623550945698\n"
     ]
    },
    {
     "name": "stderr",
     "output_type": "stream",
     "text": [
      "\n"
     ]
    }
   ],
   "source": [
    "glove = WordEmbeddings('./embeddings/glove-wiki-gigaword-300')\n",
    "glove_doc_emb = DocumentPoolEmbeddings([glove], fine_tune_mode='nonlinear')\n",
    "glove_res, glove_acc = test_model(BasicFlairNED(glove_doc_emb, cased=False))\n",
    "glove_res.to_csv('./results/base_glove.csv')\n",
    "print('Glove', glove_acc) \n",
    "# Cased   : 61.07 %\n",
    "# Uncased : 63.03 %"
   ]
  },
  {
   "cell_type": "markdown",
   "metadata": {},
   "source": [
    "### FastText Wiki-News Subword 300d"
   ]
  },
  {
   "cell_type": "code",
   "execution_count": 7,
   "metadata": {},
   "outputs": [
    {
     "name": "stderr",
     "output_type": "stream",
     "text": [
      "100%|██████████| 4497/4497 [06:04<00:00, 12.33it/s]"
     ]
    },
    {
     "name": "stdout",
     "output_type": "stream",
     "text": [
      "Fasttext 49.603416717510676\n"
     ]
    },
    {
     "name": "stderr",
     "output_type": "stream",
     "text": [
      "\n"
     ]
    }
   ],
   "source": [
    "ftext = WordEmbeddings('./embeddings/fasttext-wiki-news-subwords-300')\n",
    "ftext_doc_emb = DocumentPoolEmbeddings([ftext], fine_tune_mode='nonlinear')\n",
    "ftext_res, ftext_acc = test_model(BasicFlairNED(ftext_doc_emb))\n",
    "ftext_res.to_csv('./results/base_fasttext.csv')\n",
    "print('Fasttext', ftext_acc) \n",
    "# Cased   : 50.03 %\n",
    "# Uncased : 48.81 %"
   ]
  },
  {
   "cell_type": "markdown",
   "metadata": {},
   "source": [
    "### Word2Vec Google News 300 Dimensional"
   ]
  },
  {
   "cell_type": "code",
   "execution_count": 8,
   "metadata": {},
   "outputs": [
    {
     "name": "stderr",
     "output_type": "stream",
     "text": [
      "100%|██████████| 4497/4497 [05:38<00:00, 13.29it/s]"
     ]
    },
    {
     "name": "stdout",
     "output_type": "stream",
     "text": [
      "Word2Vec 58.69432580841977\n"
     ]
    },
    {
     "name": "stderr",
     "output_type": "stream",
     "text": [
      "\n"
     ]
    }
   ],
   "source": [
    "w2v = WordEmbeddings('./embeddings/word2vec-google-news-300')\n",
    "w2v_doc_emb = DocumentPoolEmbeddings([w2v], fine_tune_mode='nonlinear')\n",
    "w2v_res, w2v_acc = test_model(BasicFlairNED(w2v_doc_emb))\n",
    "w2v_res.to_csv('./results/base_word2vec.csv')\n",
    "print('Word2Vec', w2v_acc) \n",
    "# Cased   : 58.69 %\n",
    "# Uncased : 55.46 %"
   ]
  },
  {
   "cell_type": "code",
   "execution_count": 9,
   "metadata": {},
   "outputs": [],
   "source": [
    "# roberta_doc_emb = TransformerDocumentEmbeddings('roberta-base')\n",
    "# roberta_res, roberta_acc = test_model(BasicFlairNED(roberta_doc_emb))\n",
    "# roberta_res.to_csv('./results/base_roberta.csv')\n",
    "# print('Roberta Base', roberta_acc)"
   ]
  },
  {
   "cell_type": "markdown",
   "metadata": {},
   "source": [
    "**Notes**\n",
    "\n",
    "- Fix instances which error out when testing"
   ]
  }
 ],
 "metadata": {
  "interpreter": {
   "hash": "d3c83394ae731fac5cbf34b5abe7ebcd59fb96b846f104eed2689aeb9dd8ae81"
  },
  "kernelspec": {
   "display_name": "Python 3.8.12 64-bit ('NED-using-KG': conda)",
   "language": "python",
   "name": "python3"
  },
  "language_info": {
   "codemirror_mode": {
    "name": "ipython",
    "version": 3
   },
   "file_extension": ".py",
   "mimetype": "text/x-python",
   "name": "python",
   "nbconvert_exporter": "python",
   "pygments_lexer": "ipython3",
   "version": "3.8.12"
  },
  "orig_nbformat": 4
 },
 "nbformat": 4,
 "nbformat_minor": 2
}
