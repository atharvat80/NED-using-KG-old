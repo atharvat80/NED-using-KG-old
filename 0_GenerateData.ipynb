{
 "cells": [
  {
   "cell_type": "code",
   "execution_count": null,
   "metadata": {},
   "outputs": [],
   "source": [
    "import pandas as pd\n",
    "import flair.datasets as datasets\n",
    "from tqdm import tqdm\n",
    "from src.utils import getEntityInfo\n",
    "from data.utils import getCandidates"
   ]
  },
  {
   "cell_type": "code",
   "execution_count": null,
   "metadata": {},
   "outputs": [],
   "source": [
    "aida = datasets.NEL_ENGLISH_AIDA()\n",
    "DBPedia_desc = pd.read_csv('./data/DBPedia.csv')\n",
    "DBPedia_entites = DBPedia_desc['title'].unique()"
   ]
  },
  {
   "cell_type": "code",
   "execution_count": null,
   "metadata": {},
   "outputs": [],
   "source": [
    "def generate_data(typ):\n",
    "\tset_ = {\n",
    "\t\t'train': [1, 947, aida.train],\n",
    "\t\t'dev': [947, 1163, aida.dev],\n",
    "\t\t'test': [1163, 1394, aida.test]\n",
    "\t}\n",
    "\tentities = []\n",
    "\tfor i in range(set_[typ][0], set_[typ][1]):\n",
    "\t\tcands = getCandidates(i)\n",
    "\t\tentities += list(cands['url'].unique())\n",
    "\tfor i in set_[typ][2]:\n",
    "\t\tentities += [j.tag for j in i.get_spans()]\n",
    "\tentities = [i.split('/')[-1] for i in set(entities)]\n",
    "\tentities = list(set(entities))\n",
    "\tprint(f\"Found {len(entities)} unique entities in the {typ} set\")\n",
    "\tentity_desc_df = add_desc(entities)\n",
    "\tentity_desc_df.to_csv(f'./data/{typ}.csv', index=False)\n",
    "\n",
    "\n",
    "def get_desc(entity):\n",
    "    try:\n",
    "        return DBPedia_desc[DBPedia_desc['title'] == entity]['description'].values[0]\n",
    "    except Exception as e:\n",
    "        return ''\n",
    "\n",
    "\n",
    "def add_desc(entities):\n",
    "\tmissing = []\n",
    "\tentity_desc = []\n",
    "\tprint('Adding description from DBPedia...')\n",
    "\tfor i in tqdm(entities):\n",
    "\t\tdesc = get_desc(i)\n",
    "\t\tif desc == '':\n",
    "\t\t\tmissing.append(i)\n",
    "\t\telse:\n",
    "\t\t\tentity_desc.append([i, desc])\n",
    "\tprint('Adding data for missing entities...')\n",
    "\tfor i in tqdm(entities):\n",
    "\t\tinfo, desc = getEntityInfo(i, inc_extract=True)\n",
    "\t\tif info != 'Topics referred to by the same term' and desc != '':\n",
    "\t\t\tentity_desc.append([i, desc.replace('\\n', ' ')])\n",
    "\treturn pd.DataFrame(entity_desc, columns=['entity', 'description'])"
   ]
  },
  {
   "cell_type": "code",
   "execution_count": null,
   "metadata": {},
   "outputs": [],
   "source": [
    "generate_data('test')"
   ]
  },
  {
   "cell_type": "code",
   "execution_count": null,
   "metadata": {},
   "outputs": [],
   "source": [
    "generate_data('train')"
   ]
  },
  {
   "cell_type": "code",
   "execution_count": null,
   "metadata": {},
   "outputs": [],
   "source": [
    "generate_data('dev')"
   ]
  }
 ],
 "metadata": {
  "interpreter": {
   "hash": "d3c83394ae731fac5cbf34b5abe7ebcd59fb96b846f104eed2689aeb9dd8ae81"
  },
  "kernelspec": {
   "display_name": "Python 3.8.12 64-bit ('NED-using-KG': conda)",
   "language": "python",
   "name": "python3"
  },
  "language_info": {
   "codemirror_mode": {
    "name": "ipython",
    "version": 3
   },
   "file_extension": ".py",
   "mimetype": "text/x-python",
   "name": "python",
   "nbconvert_exporter": "python",
   "pygments_lexer": "ipython3",
   "version": "3.8.12"
  },
  "orig_nbformat": 4
 },
 "nbformat": 4,
 "nbformat_minor": 2
}
