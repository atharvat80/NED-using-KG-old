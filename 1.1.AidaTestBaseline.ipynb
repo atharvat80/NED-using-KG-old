{
 "cells": [
  {
   "cell_type": "markdown",
   "metadata": {},
   "source": [
    "# Setup"
   ]
  },
  {
   "cell_type": "code",
   "execution_count": 8,
   "metadata": {},
   "outputs": [],
   "source": [
    "import pandas as pd\n",
    "import torch, flair\n",
    "import flair.datasets as datasets\n",
    "\n",
    "from tqdm import tqdm\n",
    "from gensim.models import KeyedVectors\n",
    "from flair.embeddings import BytePairEmbeddings\n",
    "from flair.embeddings import DocumentPoolEmbeddings, TransformerDocumentEmbeddings #,ELMoEmbeddings\n",
    "from wikipedia2vec import Wikipedia2Vec\n",
    "from src.models.base import Base, BaseFlair, BaseWiki2Vec\n",
    "from test import get_candidates"
   ]
  },
  {
   "cell_type": "code",
   "execution_count": 2,
   "metadata": {},
   "outputs": [
    {
     "name": "stdout",
     "output_type": "stream",
     "text": [
      "2021-11-18 15:04:45,646 Reading data from C:\\Users\\athar\\.flair\\datasets\\nel_english_aida\n",
      "2021-11-18 15:04:45,649 Train: C:\\Users\\athar\\.flair\\datasets\\nel_english_aida\\train\n",
      "2021-11-18 15:04:45,650 Dev: C:\\Users\\athar\\.flair\\datasets\\nel_english_aida\\testa\n",
      "2021-11-18 15:04:45,651 Test: C:\\Users\\athar\\.flair\\datasets\\nel_english_aida\\testb\n"
     ]
    }
   ],
   "source": [
    "aida = datasets.NEL_ENGLISH_AIDA()\n",
    "mentions_tags = []\n",
    "doc = 1162\n",
    "for i in aida.test:\n",
    "\tcontext = i.to_plain_string()\n",
    "\tif context != '-DOCSTART-':\n",
    "\t\tmentions_tags += [[j.text, j.tag, context, doc] for j in i.get_spans()]\n",
    "\telse:\n",
    "\t\tdoc += 1"
   ]
  },
  {
   "cell_type": "code",
   "execution_count": 3,
   "metadata": {},
   "outputs": [],
   "source": [
    "entity_desc = pd.read_csv('./data/entity_desc.csv')\n",
    "\n",
    "def get_entity_desc(entity):\n",
    "\ttry:\n",
    "\t\treturn entity_desc[entity_desc['entity'] == entity]['description'].values[0]\n",
    "\texcept:\n",
    "\t\treturn ''\n",
    "\n",
    "def candidates(mention, doc):\n",
    "\tdf = get_candidates(doc, mention=mention)\n",
    "\tres = [i.split('/')[-1] for i in df['url'].values]\n",
    "\tcands = []\n",
    "\tfor i in res:\n",
    "\t\tdesc = get_entity_desc(i)\n",
    "\t\tif desc != '':\n",
    "\t\t\tcands.append([i, desc])\n",
    "\treturn cands"
   ]
  },
  {
   "cell_type": "markdown",
   "metadata": {},
   "source": [
    "# Testing base NED model using various types of embeddings"
   ]
  },
  {
   "cell_type": "code",
   "execution_count": 4,
   "metadata": {},
   "outputs": [],
   "source": [
    "def test_model(model):\n",
    "\tpreds = []\n",
    "\tskipped = 0\n",
    "\ttry:\n",
    "\t\tfor mention, tag, context, doc in tqdm(mentions_tags):\n",
    "\t\t\tcands = candidates(mention, doc)\n",
    "\t\t\t# Check the tag is a valid entity and is present in the candidate set\n",
    "\t\t\tif tag in [i[0] for i in cands]:\n",
    "\t\t\t\tpred_tag, conf = model.link(mention, context, candidates=cands)\n",
    "\t\t\t\tpreds.append([mention, tag, pred_tag, conf])\n",
    "\t\t\telse:\n",
    "\t\t\t\tskipped += 1\n",
    "\texcept Exception as e:\n",
    "\t\tprint(e)\n",
    "\n",
    "\tprint(skipped, 'mentions skipped due to invalid tag or lack of candidates.')\n",
    "\tres = pd.DataFrame(preds, columns=['mention', 'tag', 'predicted', 'confidence'])\n",
    "\tacc = (res[res['tag'] == res['predicted']].shape[0]/res.shape[0])*100\n",
    "\treturn res, acc"
   ]
  },
  {
   "cell_type": "markdown",
   "metadata": {},
   "source": [
    "### Word2Vec Google News 300d"
   ]
  },
  {
   "cell_type": "code",
   "execution_count": 5,
   "metadata": {},
   "outputs": [
    {
     "name": "stderr",
     "output_type": "stream",
     "text": [
      "100%|██████████| 4497/4497 [01:50<00:00, 40.72it/s]"
     ]
    },
    {
     "name": "stdout",
     "output_type": "stream",
     "text": [
      "247 mentions skipped due to invalid tag or lack of candidates.\n",
      "Word2Vec 52.352941176470594\n"
     ]
    },
    {
     "name": "stderr",
     "output_type": "stream",
     "text": [
      "\n"
     ]
    }
   ],
   "source": [
    "w2v = KeyedVectors.load('./embeddings/word2vec-google-news-300')\n",
    "w2v_res, w2v_acc = test_model(Base(w2v))\n",
    "w2v_res.to_csv('./results/base_word2vec.csv')\n",
    "print('Word2Vec', w2v_acc) \n",
    "# Cased   : 52.35 %\n",
    "# Uncased : 47.76 %"
   ]
  },
  {
   "cell_type": "markdown",
   "metadata": {},
   "source": [
    "### Glove Wiki-Gigaword 300d"
   ]
  },
  {
   "cell_type": "code",
   "execution_count": 6,
   "metadata": {},
   "outputs": [
    {
     "name": "stderr",
     "output_type": "stream",
     "text": [
      "100%|██████████| 4497/4497 [01:49<00:00, 41.20it/s]"
     ]
    },
    {
     "name": "stdout",
     "output_type": "stream",
     "text": [
      "247 mentions skipped due to invalid tag or lack of candidates.\n",
      "Glove 51.95294117647059"
     ]
    },
    {
     "name": "stderr",
     "output_type": "stream",
     "text": [
      "\n"
     ]
    }
   ],
   "source": [
    "glove = KeyedVectors.load('./embeddings/glove-wiki-gigaword-300')\n",
    "glove_res, glove_acc = test_model(Base(glove))\n",
    "glove_res.to_csv('./results/base_glove.csv')\n",
    "print('Glove', glove_acc, end='') \n",
    "# Cased   : 51.95 %\n",
    "# Uncased : 51.95 %"
   ]
  },
  {
   "cell_type": "markdown",
   "metadata": {},
   "source": [
    "### Byte-Pair, 300d"
   ]
  },
  {
   "cell_type": "code",
   "execution_count": 7,
   "metadata": {},
   "outputs": [
    {
     "name": "stderr",
     "output_type": "stream",
     "text": [
      "100%|██████████| 4497/4497 [08:07<00:00,  9.22it/s]"
     ]
    },
    {
     "name": "stdout",
     "output_type": "stream",
     "text": [
      "247 mentions skipped due to invalid tag or lack of candidates.\n",
      "Byte Pair 50.44705882352941"
     ]
    },
    {
     "name": "stderr",
     "output_type": "stream",
     "text": [
      "\n"
     ]
    }
   ],
   "source": [
    "byte_pair = BytePairEmbeddings('en', dim=300, syllables=200000)\n",
    "bp_doc_emb = DocumentPoolEmbeddings([byte_pair], fine_tune_mode='nonlinear')\n",
    "bp_res, bp_acc = test_model(BaseFlair(bp_doc_emb))\n",
    "bp_res.to_csv('./results/base_byte_pair.csv')\n",
    "print('Byte Pair', bp_acc, end='')\n",
    "# Cased   : 50.54 %\n",
    "# Uncased : 49.51 %"
   ]
  },
  {
   "cell_type": "markdown",
   "metadata": {},
   "source": [
    "### FastText Wiki-News Subword 300d"
   ]
  },
  {
   "cell_type": "code",
   "execution_count": 8,
   "metadata": {},
   "outputs": [
    {
     "name": "stderr",
     "output_type": "stream",
     "text": [
      "100%|██████████| 4497/4497 [01:56<00:00, 38.48it/s]"
     ]
    },
    {
     "name": "stdout",
     "output_type": "stream",
     "text": [
      "247 mentions skipped due to invalid tag or lack of candidates.\n",
      "Fasttext 39.43529411764706"
     ]
    },
    {
     "name": "stderr",
     "output_type": "stream",
     "text": [
      "\n"
     ]
    }
   ],
   "source": [
    "ftext = KeyedVectors.load('./embeddings/fasttext-wiki-news-subwords-300')\n",
    "ftext_res, ftext_acc = test_model(Base(ftext))\n",
    "ftext_res.to_csv('./results/base_fasttext.csv')\n",
    "print('Fasttext', ftext_acc, end='') \n",
    "# Cased   : 39.43 %\n",
    "# Uncased : 38.75 %"
   ]
  },
  {
   "cell_type": "markdown",
   "metadata": {},
   "source": [
    "### Wikipedia2vec"
   ]
  },
  {
   "cell_type": "markdown",
   "metadata": {},
   "source": [
    "#### 1. 100d (Window=10, NegSample=15)"
   ]
  },
  {
   "cell_type": "code",
   "execution_count": 9,
   "metadata": {},
   "outputs": [
    {
     "name": "stderr",
     "output_type": "stream",
     "text": [
      "100%|██████████| 4497/4497 [02:01<00:00, 36.92it/s]"
     ]
    },
    {
     "name": "stdout",
     "output_type": "stream",
     "text": [
      "247 mentions skipped due to invalid tag or lack of candidates.\n",
      "Word2Vec 62.04705882352941"
     ]
    },
    {
     "name": "stderr",
     "output_type": "stream",
     "text": [
      "\n"
     ]
    }
   ],
   "source": [
    "wiki2vec = Wikipedia2Vec.load('./embeddings/wiki2vec_w10_100d.pkl')\n",
    "wiki2vec_res, wiki2vec_acc = test_model(BaseWiki2Vec(wiki2vec))\n",
    "wiki2vec_res.to_csv('./results/base_wiki2vec.csv')\n",
    "print('Word2Vec', wiki2vec_acc, end='')\n",
    "# Cased   : 62.05%\n",
    "# Uncased : 62.05% "
   ]
  },
  {
   "cell_type": "markdown",
   "metadata": {},
   "source": [
    "#### 2. 300d (Window=10, NegSample=15)"
   ]
  },
  {
   "cell_type": "code",
   "execution_count": 16,
   "metadata": {},
   "outputs": [
    {
     "name": "stderr",
     "output_type": "stream",
     "text": [
      "100%|██████████| 4497/4497 [01:43<00:00, 43.51it/s]"
     ]
    },
    {
     "name": "stdout",
     "output_type": "stream",
     "text": [
      "247 mentions skipped due to invalid tag or lack of candidates.\n",
      "Word2Vec 58.7764705882353"
     ]
    },
    {
     "name": "stderr",
     "output_type": "stream",
     "text": [
      "\n"
     ]
    }
   ],
   "source": [
    "wiki2vec = Wikipedia2Vec.load('./embeddings/wiki2vec_w10_300d.pkl')\n",
    "wiki2vec_res, wiki2vec_acc = test_model(BaseWiki2Vec(wiki2vec))\n",
    "wiki2vec_res.to_csv('./results/base_wiki2vec.csv')\n",
    "print('Word2Vec', wiki2vec_acc, end='')\n",
    "# Cased   : 58.78 %\n",
    "# Uncased : 58.78 % "
   ]
  },
  {
   "cell_type": "markdown",
   "metadata": {},
   "source": [
    "### RoBERTa"
   ]
  },
  {
   "cell_type": "code",
   "execution_count": null,
   "metadata": {},
   "outputs": [],
   "source": [
    "flair.device = torch.device('cuda')\n",
    "roberta_doc_emb = TransformerDocumentEmbeddings('roberta-base')\n",
    "with torch.no_grad():\n",
    "\troberta_res, roberta_acc = test_model(BaseFlair(roberta_doc_emb))\n",
    "\troberta_res.to_csv('./results/base_roberta.csv')\n",
    "\tprint('Roberta Base', roberta_acc)\n",
    "# Cased   : - %\n",
    "# Uncased : - % "
   ]
  },
  {
   "cell_type": "markdown",
   "metadata": {},
   "source": [
    "### ELMo"
   ]
  },
  {
   "cell_type": "code",
   "execution_count": null,
   "metadata": {},
   "outputs": [],
   "source": [
    "# elmo = ELMoEmbeddings('original')"
   ]
  }
 ],
 "metadata": {
  "interpreter": {
   "hash": "d3c83394ae731fac5cbf34b5abe7ebcd59fb96b846f104eed2689aeb9dd8ae81"
  },
  "kernelspec": {
   "display_name": "Python 3.8.12 64-bit ('NED-using-KG': conda)",
   "language": "python",
   "name": "python3"
  },
  "language_info": {
   "codemirror_mode": {
    "name": "ipython",
    "version": 3
   },
   "file_extension": ".py",
   "mimetype": "text/x-python",
   "name": "python",
   "nbconvert_exporter": "python",
   "pygments_lexer": "ipython3",
   "version": "3.8.12"
  },
  "orig_nbformat": 4
 },
 "nbformat": 4,
 "nbformat_minor": 2
}
